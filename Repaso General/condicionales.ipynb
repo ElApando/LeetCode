{
 "cells": [
  {
   "cell_type": "code",
   "execution_count": 2,
   "id": "e2f0ca06",
   "metadata": {},
   "outputs": [
    {
     "name": "stdout",
     "output_type": "stream",
     "text": [
      "is an adult\n"
     ]
    }
   ],
   "source": [
    "in_age = 18 \n",
    "print(\"is an adult\" if in_age >= 18 else \"is not and adult\")"
   ]
  },
  {
   "cell_type": "code",
   "execution_count": null,
   "id": "7a382f97",
   "metadata": {},
   "outputs": [
    {
     "name": "stdout",
     "output_type": "stream",
     "text": [
      "Wrong password\n"
     ]
    }
   ],
   "source": [
    "st_password = \"123.132\"\n",
    "st_compare = \"13.235\"\n",
    "print(\"Welcome\" if st_password == st_compare else \"Wrong password\")\n"
   ]
  },
  {
   "cell_type": "code",
   "execution_count": 5,
   "id": "5de9d8a6",
   "metadata": {},
   "outputs": [
    {
     "name": "stdout",
     "output_type": "stream",
     "text": [
      "0.5779467680608364\n"
     ]
    }
   ],
   "source": [
    "in_number_1 = 456\n",
    "in_number_2 = 789\n",
    "\n",
    "result = \"Error\" if in_number_2 == 0 else in_number_1 / in_number_2\n",
    "print(result)"
   ]
  },
  {
   "cell_type": "code",
   "execution_count": 15,
   "id": "a288f947",
   "metadata": {},
   "outputs": [
    {
     "name": "stdout",
     "output_type": "stream",
     "text": [
      "pair\n"
     ]
    }
   ],
   "source": [
    "in_numbber = 18\n",
    "print(\"pair\" if in_numbber % 2 == 0  else \"odd\")"
   ]
  },
  {
   "cell_type": "code",
   "execution_count": 18,
   "id": "ab767da9",
   "metadata": {},
   "outputs": [
    {
     "name": "stdout",
     "output_type": "stream",
     "text": [
      "Paga impuestos\n"
     ]
    }
   ],
   "source": [
    "in_age = 17\n",
    "in_come = 456\n",
    "print(\"Paga impuestos\" if in_age > 16 or in_come >= 1000 else \"No paga impuestos\")"
   ]
  },
  {
   "cell_type": "code",
   "execution_count": 23,
   "id": "b750eae3",
   "metadata": {},
   "outputs": [
    {
     "name": "stdout",
     "output_type": "stream",
     "text": [
      "B\n"
     ]
    }
   ],
   "source": [
    "st_name = \"Robert\"\n",
    "st_sex = \"Fale\"\n",
    "\n",
    "if st_name[0].lower() < \"m\" and st_sex == \"Female\":\n",
    "\tprint(\"A\") \n",
    "\n",
    "elif st_name[0].lower() > \"n\" and st_sex == \"Male\":\n",
    "\tprint(\"A\") \n",
    "\n",
    "else:\n",
    "\tprint(\"B\")"
   ]
  },
  {
   "cell_type": "code",
   "execution_count": null,
   "id": "bb3ee1bb",
   "metadata": {},
   "outputs": [
    {
     "name": "stdout",
     "output_type": "stream",
     "text": [
      "Tax 500.0 Income 10000\n"
     ]
    }
   ],
   "source": [
    "in_income = 10000\n",
    "\n",
    "if in_income <= 10000:\n",
    "\tin_tax = 5\n",
    "\n",
    "elif in_income <= 20000:\n",
    "\tin_tax = 15\n",
    "\n",
    "elif in_income <= 35000:\n",
    "\tin_tax = 20\n",
    "\n",
    "elif in_income <= 60000:\n",
    "\tin_tax = 30\n",
    "\t\n",
    "else:\n",
    "\tin_tax = 45\n",
    "\n",
    "print(\"Tax\", in_income*(in_tax/100), \"Income\", in_income)"
   ]
  },
  {
   "cell_type": "code",
   "execution_count": null,
   "id": "09814d45",
   "metadata": {},
   "outputs": [
    {
     "name": "stdout",
     "output_type": "stream",
     "text": [
      "Economic advantage: 240.0, unacceptable\n"
     ]
    }
   ],
   "source": [
    "fl_points = 0.1\n",
    "\n",
    "if  fl_points <= 0.4:\n",
    "\tprint(f\"Economic advantage: {2400*fl_points}, unacceptable\")\n",
    "\n",
    "elif fl_points >= 0.4 and fl_points <= 0.6:\n",
    "\tprint(f\"Economic advantage: {2400*fl_points}, acceptable\")\n",
    "\t\n",
    "else:\n",
    "\tprint(f\"Economic advantage: {2400*fl_points}, meritorious\")"
   ]
  },
  {
   "cell_type": "code",
   "execution_count": 35,
   "id": "54207a6f",
   "metadata": {},
   "outputs": [
    {
     "name": "stdout",
     "output_type": "stream",
     "text": [
      "pay 10\n"
     ]
    }
   ],
   "source": [
    "in_age = 23\n",
    "\n",
    "if in_age <= 4:\n",
    "\tprint(\"Free\")\n",
    "\n",
    "elif 4 < in_age and in_age < 18:\n",
    "\tprint(\"pay 5\")\n",
    "\n",
    "elif 18 <= in_age:\n",
    "\tprint(\"pay 10\")\n",
    "\n",
    "else:\n",
    "\tpass"
   ]
  },
  {
   "cell_type": "code",
   "execution_count": 38,
   "id": "3338a13d",
   "metadata": {},
   "outputs": [
    {
     "name": "stdout",
     "output_type": "stream",
     "text": [
      "Vegetarian ingredients: Pepper and tofu\n",
      "ingredients: mozzarella, tomatoe, Pepper\n"
     ]
    }
   ],
   "source": [
    "st_type = \"vegetarian\"\n",
    "\n",
    "if st_type == \"vegetarian\":\n",
    "\tprint(\"Vegetarian ingredients: Pepper and tofu\")\n",
    "\tst_extra = \"Pepper\"\n",
    "\t\n",
    "\tif  st_extra == \"Pepper\":\n",
    "\t\tprint(\"ingredients: mozzarella, tomatoe, Pepper\")\n",
    "\n",
    "\telif  st_extra == \"Tofu\":\n",
    "\t\tprint(\"ingredients: mozzarella, tomatoe, tofu\")\n",
    "\n",
    "\telse:\n",
    "\t\t(\"Error\")\n",
    "\n",
    "elif st_type == \"No vegetarian\":\n",
    "\tprint(\"No vegetarian ingredients: pepperoni, ham y salmon\")\n",
    "\tst_extra = \"pepperoni\"\n",
    "\t\n",
    "\tif  st_extra == \"pepperoni\":\n",
    "\t\tprint(\"ingredients: mozzarella, tomatoe, pepperoni\")\n",
    "\n",
    "\telif  st_extra == \"ham\":\n",
    "\t\tprint(\"ingredients: mozzarella, tomatoe, ham\")\n",
    "\n",
    "\telif  st_extra == \"salmon\":\n",
    "\t\tprint(\"ingredients: mozzarella, tomatoe, salmon\")\n",
    "\n",
    "\telse:\n",
    "\t\t(\"Error\")\n",
    "\n"
   ]
  }
 ],
 "metadata": {
  "kernelspec": {
   "display_name": "env-leetcode",
   "language": "python",
   "name": "python3"
  },
  "language_info": {
   "codemirror_mode": {
    "name": "ipython",
    "version": 3
   },
   "file_extension": ".py",
   "mimetype": "text/x-python",
   "name": "python",
   "nbconvert_exporter": "python",
   "pygments_lexer": "ipython3",
   "version": "3.11.9"
  }
 },
 "nbformat": 4,
 "nbformat_minor": 5
}
