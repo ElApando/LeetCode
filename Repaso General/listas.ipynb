{
 "cells": [
  {
   "cell_type": "code",
   "execution_count": 1,
   "id": "e5fa24cc",
   "metadata": {},
   "outputs": [],
   "source": [
    "ls_prove = [\"Matemáticas\",\"Física\",\"Química\",\"Historia\",\"Lengua\"]"
   ]
  },
  {
   "cell_type": "code",
   "execution_count": 4,
   "id": "94cb92c2",
   "metadata": {},
   "outputs": [
    {
     "name": "stdout",
     "output_type": "stream",
     "text": [
      "I am studying Matemáticas\n",
      "I am studying Física\n",
      "I am studying Química\n",
      "I am studying Historia\n",
      "I am studying Lengua\n"
     ]
    }
   ],
   "source": [
    "for ii in ls_prove:\n",
    "\tprint(f\"I am studying {ii}\")"
   ]
  },
  {
   "cell_type": "code",
   "execution_count": 5,
   "id": "df3a1d02",
   "metadata": {},
   "outputs": [
    {
     "ename": "",
     "evalue": "",
     "output_type": "error",
     "traceback": [
      "\u001b[1;31mCannot execute code, session has been disposed. Please try restarting the Kernel."
     ]
    },
    {
     "ename": "",
     "evalue": "",
     "output_type": "error",
     "traceback": [
      "\u001b[1;31mCannot execute code, session has been disposed. Please try restarting the Kernel. \n",
      "\u001b[1;31mView Jupyter <a href='command:jupyter.viewOutput'>log</a> for further details."
     ]
    }
   ],
   "source": [
    "for ii in ls_prove:\n",
    "\tst_grade = input(f\"Input the grade {ii}: \")\n",
    "\tprint(f\"In {ii} you  have obtained {st_grade}\")"
   ]
  },
  {
   "cell_type": "code",
   "execution_count": null,
   "id": "708a89b5",
   "metadata": {},
   "outputs": [],
   "source": [
    "ls_list = []\n",
    "\n",
    "for ii in range(6):\n",
    "\tst_number = input(\"Input the winning number: \")\n",
    "\tls_list.append(st_number)\n",
    "\n",
    "ls_list.sort()"
   ]
  },
  {
   "cell_type": "code",
   "execution_count": 1,
   "id": "360de7e8",
   "metadata": {},
   "outputs": [
    {
     "name": "stdout",
     "output_type": "stream",
     "text": [
      "10,9,8,7,6,5,4,3,2,1\n"
     ]
    }
   ],
   "source": [
    "ls_prove_1 = []\n",
    "\n",
    "for ii in range(1,10+1,1):\n",
    "\tls_prove_1.append(str(ii))\n",
    "\n",
    "ls_prove_1 = ls_prove_1[::-1]\n",
    "ls_prove_1 = \",\".join(ls_prove_1)\n",
    "\n",
    "print(ls_prove_1)"
   ]
  },
  {
   "cell_type": "code",
   "execution_count": null,
   "id": "4797e0d6",
   "metadata": {},
   "outputs": [
    {
     "name": "stdout",
     "output_type": "stream",
     "text": [
      "['Matemáticas', 'Física', 'Química', 'Historia', 'Lengua']\n",
      "\n"
     ]
    }
   ],
   "source": [
    "\n",
    "in_count = 0\n",
    "\n",
    "while True:\n",
    "\tin_grade = int(input(f\"Input the grade: \"))\n",
    "\tin_count = in_count + 1\n",
    "\tif in_grade > 6:\n",
    "\t\tls_prove.pop()\n",
    "\n",
    "\tif in_count == 5:\n",
    "\t\tbreak\n",
    "\n",
    "print(ls_prove)"
   ]
  },
  {
   "cell_type": "code",
   "execution_count": null,
   "id": "70afde2e",
   "metadata": {},
   "outputs": [
    {
     "name": "stdout",
     "output_type": "stream",
     "text": [
      "['a', 'b', 'd', 'e', 'g', 'h', 'j', 'k', 'm', 'n', 'o', 'p', 'r', 's', 'u', 'v', 'x', 'y']\n",
      "\n"
     ]
    }
   ],
   "source": [
    "st_letters = ['a', 'b', 'c', 'd', 'e', \n",
    "\t\t\t'f', 'g', 'h', 'i', 'j', \n",
    "\t\t\t'k', 'l', 'm', 'n', 'ñ',\n",
    "\t\t\t'o', 'p', 'q', 'r', 's', \n",
    "\t\t\t't', 'u', 'v', 'w', 'x',\n",
    "\t\t\t'y', 'z']\n",
    "\n",
    "ls_letters_filtered = []\n",
    "count = 1\n",
    "\n",
    "for ii in st_letters:\n",
    "\tif count % 3 != 0:\n",
    "\t\tls_letters_filtered.append(ii)\n",
    "\tcount = count + 1 \n",
    "\n",
    "print(ls_letters_filtered)"
   ]
  },
  {
   "cell_type": "code",
   "execution_count": 5,
   "id": "d40445fb",
   "metadata": {},
   "outputs": [],
   "source": [
    "\n",
    "st_word = \"Anai\"\n",
    "st_word = st_word.lower()\n",
    "st_save = \"\"\n",
    "\n",
    "for ii in range(len(st_word),0,-1):\n",
    "\tst_save += st_word[ii-1]\n",
    "\n",
    "if st_word == st_save:\n",
    "\tprint(\"it is palindrome\")"
   ]
  },
  {
   "cell_type": "code",
   "execution_count": 1,
   "id": "a21a0acf",
   "metadata": {},
   "outputs": [
    {
     "name": "stdout",
     "output_type": "stream",
     "text": [
      "{'o': 7, 'j': 10, 'r': 3, 'e': 6, 'w': 3, 't': 1, 'y': 1, 'f': 5, 'i': 4, 's': 4, 'd': 5, 'n': 3, 'v': 2, 'p': 1, 'c': 1}\n"
     ]
    }
   ],
   "source": [
    "st_word = \"OJOJOJOJrewrewtreyfjisdfjdsjfjeiondvionenfvdjsfopwejidsc\"\n",
    "di_save = {}\n",
    "st_word = st_word.lower()\n",
    "\n",
    "for ii in range(0,len(st_word),1):\n",
    "\tif st_word[ii] not in di_save.keys():\n",
    "\t\tdi_save[st_word[ii]] = 1\n",
    "\n",
    "\telif st_word[ii] in di_save.keys():\n",
    "\t\tdi_save[st_word[ii]] = di_save[st_word[ii]]+1\n",
    "\t\t\n",
    "print(di_save)"
   ]
  },
  {
   "cell_type": "code",
   "execution_count": 7,
   "id": "a31ab76e",
   "metadata": {},
   "outputs": [
    {
     "name": "stdout",
     "output_type": "stream",
     "text": [
      "80\n",
      "80 8\n",
      "8\n"
     ]
    }
   ],
   "source": [
    "ls_prices = [50, 75, 46, 22, 80, 65, 8]\n",
    "in_max = 0\n",
    "in_min = 100\n",
    "\n",
    "for ii in range(0,len(ls_prices),1):\n",
    "\tin_max = max(ls_prices[ii],in_max) \n",
    "\tin_min = min(ls_prices[ii],in_min)\n",
    "\n",
    "print(in_max)\n",
    "print(max(ls_prices),min(ls_prices))\n",
    "print(in_min)"
   ]
  },
  {
   "cell_type": "code",
   "execution_count": 9,
   "id": "d88c7532",
   "metadata": {},
   "outputs": [
    {
     "name": "stdout",
     "output_type": "stream",
     "text": [
      "-1 1 -1\n",
      "0 2 0\n",
      "6 3 2\n",
      "5\n"
     ]
    }
   ],
   "source": [
    "tu_vector_A = (1,2,3)\n",
    "tu_vector_B = (-1,0,2)\n",
    "\n",
    "if len(tu_vector_A) >= len(tu_vector_B):\n",
    "\tin_max = len(tu_vector_A)\n",
    "\n",
    "else:\n",
    "\tin_max = len(tu_vector_B)\n",
    "\n",
    "in_result = 0\n",
    "\n",
    "for ii in range(0,in_max,1):\n",
    "\ttu_operation = tu_vector_A[ii]*tu_vector_B[ii]\n",
    "\tprint(tu_operation,tu_vector_A[ii],tu_vector_B[ii])\n",
    "\tin_result = in_result+tu_operation\n",
    "\n",
    "print(in_result)"
   ]
  },
  {
   "cell_type": "code",
   "execution_count": 11,
   "id": "9f32e7a8",
   "metadata": {},
   "outputs": [
    {
     "name": "stdout",
     "output_type": "stream",
     "text": [
      "[[2, 5], [2, 11]]\n"
     ]
    }
   ],
   "source": [
    "ls_A = [[1,2,3],[4,5,6]]\n",
    "ls_B = [[-1,0,1],[0,1,1]]\n",
    "\n",
    "ls_save = [[] for _ in range(len(ls_A))]\n",
    "in_result = 0\n",
    "\n",
    "for ii in range(0,len(ls_A),1):\n",
    "\tfor jj in range(0,len(ls_A),1):\n",
    "\t\tfor kk in range(0,len(ls_A[ii]),1):\n",
    "\t\t\tin_result = in_result + ls_A[ii][kk]*ls_B[jj][kk]\n",
    "\n",
    "\t\tls_save[ii].append(in_result)\n",
    "\t\tin_result = 0\n",
    "\n",
    "print(ls_save)"
   ]
  },
  {
   "cell_type": "code",
   "execution_count": 12,
   "id": "a28538db",
   "metadata": {},
   "outputs": [
    {
     "name": "stdout",
     "output_type": "stream",
     "text": [
      "15 3.0 10.0 1.41\n"
     ]
    }
   ],
   "source": [
    "ls_nums = [1,2,3,4,5]\n",
    "in_plus = 0\n",
    "\n",
    "for ii in range(0,len(ls_nums),1):\n",
    "\tin_plus += ls_nums[ii]\n",
    "\n",
    "fl_media = in_plus/len(ls_nums)\n",
    "in_plus_2 = 0\n",
    "\n",
    "for ii in range(0,len(ls_nums),1):\n",
    "\tX = abs(ls_nums[ii]-fl_media)**2\n",
    "\tin_plus_2 += X\n",
    "\n",
    "fl_standard_deviation = round((in_plus_2/len(ls_nums))**(1/2),2)\n",
    "\n",
    "print(in_plus,fl_media,in_plus_2,fl_standard_deviation)"
   ]
  }
 ],
 "metadata": {
  "kernelspec": {
   "display_name": "env-leetcode",
   "language": "python",
   "name": "python3"
  },
  "language_info": {
   "codemirror_mode": {
    "name": "ipython",
    "version": 3
   },
   "file_extension": ".py",
   "mimetype": "text/x-python",
   "name": "python",
   "nbconvert_exporter": "python",
   "pygments_lexer": "ipython3",
   "version": "3.11.9"
  }
 },
 "nbformat": 4,
 "nbformat_minor": 5
}
