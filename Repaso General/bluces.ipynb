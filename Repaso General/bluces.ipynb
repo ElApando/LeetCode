{
 "cells": [
  {
   "cell_type": "code",
   "execution_count": null,
   "id": "f721bd41",
   "metadata": {},
   "outputs": [
    {
     "name": "stdout",
     "output_type": "stream",
     "text": [
      "programming\n",
      "programming\n",
      "programming\n",
      "programming\n",
      "programming\n",
      "programming\n",
      "programming\n",
      "programming\n",
      "programming\n",
      "programming\n"
     ]
    }
   ],
   "source": [
    "st_word = \"programming\"\n",
    "\n",
    "for ii in range(0,10,1):\n",
    "    print(st_word)\n"
   ]
  },
  {
   "cell_type": "code",
   "execution_count": 7,
   "id": "46494480",
   "metadata": {},
   "outputs": [
    {
     "name": "stdout",
     "output_type": "stream",
     "text": [
      "programming programming programming programming programming programming programming programming programming\n"
     ]
    }
   ],
   "source": [
    "st_word = \"programming\"\n",
    "\n",
    "print(\" \".join(st_word for ii in range(1,10,1)))"
   ]
  },
  {
   "cell_type": "code",
   "execution_count": 8,
   "id": "bf26ecb6",
   "metadata": {},
   "outputs": [
    {
     "name": "stdout",
     "output_type": "stream",
     "text": [
      "programming\n",
      "programming\n",
      "programming\n",
      "programming\n",
      "programming\n",
      "programming\n",
      "programming\n",
      "programming\n",
      "programming\n",
      "programming\n"
     ]
    }
   ],
   "source": [
    "st_word = \"programming\"\n",
    "\n",
    "for i in range(0,10,1): print(st_word)"
   ]
  },
  {
   "cell_type": "code",
   "execution_count": 12,
   "id": "068d1ada",
   "metadata": {},
   "outputs": [
    {
     "name": "stdout",
     "output_type": "stream",
     "text": [
      "1\n",
      "2\n",
      "3\n",
      "4\n",
      "5\n",
      "6\n",
      "7\n",
      "8\n",
      "9\n",
      "10\n",
      "11\n",
      "12\n",
      "13\n",
      "14\n",
      "15\n",
      "16\n",
      "17\n",
      "18\n",
      "19\n",
      "20\n",
      "21\n",
      "22\n",
      "23\n",
      "24\n",
      "25\n",
      "26\n",
      "27\n",
      "28\n",
      "29\n"
     ]
    }
   ],
   "source": [
    "in_old = 29\n",
    "\n",
    "for ii in range(1, in_old+1, 1):\n",
    "    print(ii)"
   ]
  },
  {
   "cell_type": "code",
   "execution_count": 14,
   "id": "f30af517",
   "metadata": {},
   "outputs": [
    {
     "name": "stdout",
     "output_type": "stream",
     "text": [
      "1,3,5,7,9,11,13,15,17,19,21,23,25,27,29,31,33,35,37,39,41,43,45,47,49,51,53,55,57,59,61,63,65,67,69,71,73,75,77,79,81,83,85,87,89,91,93,95,97,99,\n"
     ]
    }
   ],
   "source": [
    "in_number = 100\n",
    "st_save = \"\"\n",
    "\n",
    "if in_number > 0:\n",
    "    for ii in range(1, in_number+1, 1):\n",
    "        if ii % 2 != 0:\n",
    "            st_save += str(ii)+\",\"\n",
    "\n",
    "    print(st_save)"
   ]
  },
  {
   "cell_type": "code",
   "execution_count": 20,
   "id": "6b62e06f",
   "metadata": {},
   "outputs": [
    {
     "name": "stdout",
     "output_type": "stream",
     "text": [
      "1,3,5,7,9,11,13,15,17,19,21,23,25,27,29,31,33,35,37,39,41,43,45,47,49,51,53,55,57,59,61,63,65,67,69,71,73,75,77,79,81,83,85,87,89,91,93,95,97,99,\n"
     ]
    }
   ],
   "source": [
    "in_number = 100\n",
    "st_save = \"\"\n",
    "\n",
    "if in_number > 0:\n",
    "    for ii in range(1, in_number+1, 1):\n",
    "        st_save += str(ii)+\",\" if ii % 2 != 0 else \"\"\n",
    "\n",
    "    print(st_save)        \n"
   ]
  },
  {
   "cell_type": "code",
   "execution_count": 24,
   "id": "24c66398",
   "metadata": {},
   "outputs": [
    {
     "name": "stdout",
     "output_type": "stream",
     "text": [
      "1,3,5,7,9,11,13,15,17,19,21,23,25,27,29,31,33,35,37,39,41,43,45,47,49,51,53,55,57,59,61,63,65,67,69,71,73,75,77,79,81,83,85,87,89,91,93,95,97,99\n"
     ]
    }
   ],
   "source": [
    "in_number = 100\n",
    "\n",
    "if in_number > 0:\n",
    "    print(\",\".join(str(ii) for ii in range(1, in_number + 1, 2)))"
   ]
  },
  {
   "cell_type": "code",
   "execution_count": 31,
   "id": "cb5276b6",
   "metadata": {},
   "outputs": [
    {
     "name": "stdout",
     "output_type": "stream",
     "text": [
      "20,19,18,17,16,15,14,13,12,11,10,9,8,7,6,5,4,3,2,1\n"
     ]
    }
   ],
   "source": [
    "in_number = 20\n",
    "st_save = \"\"\n",
    "\n",
    "if in_number>0:\n",
    "    for i in range(in_number,0,-1):\n",
    "        st_save += str(i)+\",\"\n",
    "\n",
    "    print(st_save[:-1])"
   ]
  },
  {
   "cell_type": "code",
   "execution_count": 36,
   "id": "10a3e826",
   "metadata": {},
   "outputs": [
    {
     "name": "stdout",
     "output_type": "stream",
     "text": [
      "20,19,18,17,16,15,14,13,12,11,10,9,8,7,6,5,4,3,2,1\n"
     ]
    }
   ],
   "source": [
    "in_number = 20\n",
    "\n",
    "print(\",\".join(str(ii) for ii in range(in_number,0,-1)) if in_number>0 else \"\")"
   ]
  },
  {
   "cell_type": "code",
   "execution_count": 46,
   "id": "694a3832",
   "metadata": {},
   "outputs": [
    {
     "name": "stdout",
     "output_type": "stream",
     "text": [
      "Inversión con ganancias: 1456.0, año 1\n",
      "Inversión con ganancias: 1630.7, año 2\n",
      "Inversión con ganancias: 1826.4, año 3\n",
      "Inversión con ganancias: 2045.6, año 4\n",
      "Inversión con ganancias: 2291.0, año 5\n"
     ]
    }
   ],
   "source": [
    "\n",
    "in_mount = 630+670\n",
    "in_interest = 12\n",
    "in_years = 5\n",
    "\n",
    "for ii in range(0,in_years,1):\n",
    "    print(f\"Inversión con ganancias: {round(in_mount*(1+(in_interest/100)),1)}, año {ii+1}\") \n",
    "    in_mount = in_mount*(1+(in_interest/100))"
   ]
  },
  {
   "cell_type": "code",
   "execution_count": 50,
   "id": "ac23351f",
   "metadata": {},
   "outputs": [
    {
     "name": "stdout",
     "output_type": "stream",
     "text": [
      "*\n",
      "**\n",
      "***\n",
      "****\n"
     ]
    }
   ],
   "source": [
    "in_number = 4\n",
    "\n",
    "print(\"\\n\".join(\"*\"*i for i in range(1, in_number +1 ,1)))\n"
   ]
  },
  {
   "cell_type": "code",
   "execution_count": 56,
   "id": "d4fc1597",
   "metadata": {},
   "outputs": [
    {
     "name": "stdout",
     "output_type": "stream",
     "text": [
      "78 * 0 = 0\n",
      "78 * 1 = 78\n",
      "78 * 2 = 156\n",
      "78 * 3 = 234\n",
      "78 * 4 = 312\n",
      "78 * 5 = 390\n",
      "78 * 6 = 468\n",
      "78 * 7 = 546\n",
      "78 * 8 = 624\n",
      "78 * 9 = 702\n",
      "78 * 10 = 780\n"
     ]
    }
   ],
   "source": [
    "in_number = 78\n",
    "print(\"\\n\".join(f\"{in_number} * {ii} = {in_number*ii}\" for ii in range(0, 11, 1)))\n"
   ]
  },
  {
   "cell_type": "code",
   "execution_count": 66,
   "id": "87453682",
   "metadata": {},
   "outputs": [
    {
     "name": "stdout",
     "output_type": "stream",
     "text": [
      "1  \n",
      "3 1  \n",
      "5 3 1  \n",
      "7 5 3 1  \n",
      "9 7 5 3 1  \n",
      "11 9 7 5 3 1  \n"
     ]
    }
   ],
   "source": [
    "in_num = 11\n",
    "st_save = \" \"\n",
    "\n",
    "for i in range(1,in_num+1,1):\n",
    "    if i % 2 != 0:\n",
    "        st_save = str(i)+ \" \" + st_save \n",
    "        print(st_save)\n"
   ]
  },
  {
   "cell_type": "code",
   "execution_count": null,
   "id": "14e237d7",
   "metadata": {},
   "outputs": [
    {
     "name": "stdout",
     "output_type": "stream",
     "text": [
      "No es primo\n"
     ]
    }
   ],
   "source": [
    "in_number = 6\n",
    "\n",
    "if in_number > 1:\n",
    "    ls_save = []\n",
    "    \n",
    "    for ii in range(1, 101, 1):\n",
    "        if in_number % ii == 0:\n",
    "            ls_save.append(ii)\n",
    "\n",
    "    if len(ls_save) != 2:\n",
    "        print(\"No es primo\")\n",
    "\n",
    "    else:\n",
    "        print(\"Es primo\")"
   ]
  },
  {
   "cell_type": "code",
   "execution_count": null,
   "id": "c5b66de2",
   "metadata": {},
   "outputs": [
    {
     "name": "stdout",
     "output_type": "stream",
     "text": [
      "No es primo\n"
     ]
    }
   ],
   "source": [
    "in_number = 4587\n",
    "\n",
    "if in_number > 1:\n",
    "    ls_save = [ii for ii in range(1, in_number+1, 1) if in_number % ii == 0]\n",
    "\n",
    "    if len(ls_save) != 2:\n",
    "        print(\"No es primo\")\n",
    "\n",
    "    else:\n",
    "        print(\"Es primo\")\n",
    "\n",
    "else:\n",
    "    print(\"Es primo\")"
   ]
  },
  {
   "cell_type": "code",
   "execution_count": 96,
   "id": "9155b974",
   "metadata": {},
   "outputs": [
    {
     "name": "stdout",
     "output_type": "stream",
     "text": [
      "g\n",
      "n\n",
      "i\n",
      "m\n",
      "m\n",
      "a\n",
      "r\n",
      "g\n",
      "o\n",
      "r\n",
      "p\n"
     ]
    }
   ],
   "source": [
    "\n",
    "st_word = \"programming\"\n",
    "\n",
    "print(\"\\n\".join(st_word[ii-1] for ii in range(len(st_word),0,-1)))"
   ]
  },
  {
   "cell_type": "code",
   "execution_count": 3,
   "id": "230fed22",
   "metadata": {},
   "outputs": [
    {
     "name": "stdout",
     "output_type": "stream",
     "text": [
      "6\n"
     ]
    }
   ],
   "source": [
    "st_word = \"Pronto se da cuenta que está encerrado\"\n",
    "st_word = st_word.lower()\n",
    "st_letter = \"e\"\n",
    "in_count = 0\n",
    "\n",
    "for i in range(0,len(st_word),1):\n",
    "    if st_word[i] == st_letter:\n",
    "        in_count += 1\n",
    "\n",
    "print(in_count)"
   ]
  },
  {
   "cell_type": "code",
   "execution_count": 11,
   "id": "e9599c9e",
   "metadata": {},
   "outputs": [
    {
     "name": "stdout",
     "output_type": "stream",
     "text": [
      "6\n"
     ]
    }
   ],
   "source": [
    "st_word = \"Pronto se da cuenta que está encerrado\"\n",
    "st_letter = \"e\"\n",
    "\n",
    "in_count = len([ ii for ii in range(0,len(st_word),1) if st_word[ii] == st_letter])\n",
    "\n",
    "print(in_count)"
   ]
  },
  {
   "cell_type": "code",
   "execution_count": 13,
   "id": "6de63abf",
   "metadata": {},
   "outputs": [
    {
     "name": "stdout",
     "output_type": "stream",
     "text": [
      "6\n"
     ]
    }
   ],
   "source": [
    "st_word = \"Pronto se da cuenta que está encerrado\"\n",
    "st_letter = \"e\"\n",
    "\n",
    "in_count = st_word.count(st_letter)\n",
    "print(in_count)"
   ]
  }
 ],
 "metadata": {
  "kernelspec": {
   "display_name": "env-leetcode",
   "language": "python",
   "name": "python3"
  },
  "language_info": {
   "codemirror_mode": {
    "name": "ipython",
    "version": 3
   },
   "file_extension": ".py",
   "mimetype": "text/x-python",
   "name": "python",
   "nbconvert_exporter": "python",
   "pygments_lexer": "ipython3",
   "version": "3.11.9"
  }
 },
 "nbformat": 4,
 "nbformat_minor": 5
}
