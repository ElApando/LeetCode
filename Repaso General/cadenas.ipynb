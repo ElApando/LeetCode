{
 "cells": [
  {
   "cell_type": "code",
   "execution_count": null,
   "id": "ae674085",
   "metadata": {},
   "outputs": [
    {
     "name": "stdout",
     "output_type": "stream",
     "text": [
      "Juan\n",
      "Juan\n",
      "Juan\n",
      "Juan\n",
      "Juan\n"
     ]
    }
   ],
   "source": [
    "st_name = \"John\"\n",
    "in_number = 5\n",
    "\n",
    "print(\"\\n\".join(\"\".join(ii for ii in st_name) for jj in range(in_number)))"
   ]
  },
  {
   "cell_type": "code",
   "execution_count": 10,
   "metadata": {},
   "outputs": [
    {
     "name": "stdout",
     "output_type": "stream",
     "text": [
      "john lennon\n",
      "JOHN LENNON\n",
      "John lennon\n",
      "John Lennon\n"
     ]
    }
   ],
   "source": [
    "st_name = \"John Lennon\"\n",
    "\n",
    "print(st_name.lower())\n",
    "print(st_name.upper())\n",
    "print(st_name.capitalize())\n",
    "print(st_name.title())"
   ]
  },
  {
   "cell_type": "code",
   "execution_count": 11,
   "metadata": {},
   "outputs": [
    {
     "name": "stdout",
     "output_type": "stream",
     "text": [
      "Juan tiene 4 letras\n"
     ]
    }
   ],
   "source": [
    "st_name = \"Juan\"\n",
    "print(f\"{st_name} tiene {str(len(st_name))} letras\")"
   ]
  },
  {
   "cell_type": "code",
   "execution_count": 13,
   "id": "02f4874d",
   "metadata": {},
   "outputs": [
    {
     "name": "stdout",
     "output_type": "stream",
     "text": [
      "913724710\n"
     ]
    }
   ],
   "source": [
    "st_number = \"+34-913724710-56\"\n",
    "ls_split = st_number.split(\"-\")\n",
    "st_code = ls_split[0]\n",
    "st_number = ls_split[1]\n",
    "st_extnsion = ls_split[2]\n",
    "print(st_number)"
   ]
  },
  {
   "cell_type": "code",
   "execution_count": 14,
   "id": "6e7b0b3c",
   "metadata": {},
   "outputs": [
    {
     "name": "stdout",
     "output_type": "stream",
     "text": [
      "yppah si nhoJ\n"
     ]
    }
   ],
   "source": [
    "st_sentence = \"John is happy\"\n",
    "print(st_sentence[::-1])"
   ]
  },
  {
   "cell_type": "code",
   "execution_count": 16,
   "id": "582b8759",
   "metadata": {},
   "outputs": [
    {
     "name": "stdout",
     "output_type": "stream",
     "text": [
      "John is hAppy\n"
     ]
    }
   ],
   "source": [
    "st_sentence = \"John is happy\"\n",
    "st_vowel = \"a\"\n",
    "print(st_sentence.replace(st_vowel,st_vowel.upper()))"
   ]
  },
  {
   "cell_type": "code",
   "execution_count": 21,
   "id": "21b34989",
   "metadata": {},
   "outputs": [
    {
     "name": "stdout",
     "output_type": "stream",
     "text": [
      "johnlennon@ceu.es\n",
      "johnlennon@ceu.es\n"
     ]
    }
   ],
   "source": [
    "st_email = \"johnlennon@gmail.com\"\n",
    "st_site = 0\n",
    "\n",
    "for ii in range(0,len(st_email),1):\n",
    "\tif st_email[ii] == \"@\":\n",
    "\t\tst_site = ii\n",
    "\n",
    "print(st_email[:st_site+1]+\"ceu.es\")\n",
    "print(st_email[:st_email.find(\"@\")]+\"@ceu.es\")"
   ]
  },
  {
   "cell_type": "code",
   "execution_count": 24,
   "id": "aed42626",
   "metadata": {},
   "outputs": [
    {
     "name": "stdout",
     "output_type": "stream",
     "text": [
      "12 23\n"
     ]
    }
   ],
   "source": [
    "st_euros = \"12.23\"\n",
    "int_number = st_euros[:st_euros.find(\".\")]\n",
    "in_cent = st_euros[st_euros.find(\".\")+1:]\n",
    "print(int_number,in_cent)"
   ]
  },
  {
   "cell_type": "code",
   "execution_count": null,
   "id": "ab7647ea",
   "metadata": {},
   "outputs": [
    {
     "name": "stdout",
     "output_type": "stream",
     "text": [
      "21\n",
      "04\n",
      "1995\n"
     ]
    }
   ],
   "source": [
    "st_date = \"21/04/1995\"\n",
    "ls_split = st_date.split(\"/\")\n",
    "st_day = ls_split[0]\n",
    "st_month = ls_split[1]\n",
    "st_year = ls_split[2]\n",
    "\n",
    "print(st_day)\n",
    "print(st_month)\n",
    "print(st_year)"
   ]
  },
  {
   "cell_type": "code",
   "execution_count": null,
   "id": "4ab76934",
   "metadata": {},
   "outputs": [
    {
     "name": "stdout",
     "output_type": "stream",
     "text": [
      "Television\n",
      " home\n",
      " site\n",
      " focus\n",
      " game\n"
     ]
    }
   ],
   "source": [
    "st_thing = \"Television, home, site, focus, game\"\n",
    "st_split = st_thing.split(\",\")\n",
    "\n",
    "print(\"\\n\".join(ii for ii in st_split))\n"
   ]
  },
  {
   "cell_type": "code",
   "execution_count": 32,
   "id": "7c60a3a7",
   "metadata": {},
   "outputs": [
    {
     "name": "stdout",
     "output_type": "stream",
     "text": [
      "Product: Tomatoes, Mount: 200, Price: 630.25, Cost: 126050.0\n"
     ]
    }
   ],
   "source": [
    "st_product = \"Tomatoes\"\n",
    "in_quntity = 200\n",
    "in_price = 630.25 \n",
    "\n",
    "print(f\"Product: {st_product}, Mount: {in_quntity}, Price: {round(in_price,2)}, Cost: {round(in_quntity*in_price,2)}\")"
   ]
  }
 ],
 "metadata": {
  "kernelspec": {
   "display_name": "env-leetcode",
   "language": "python",
   "name": "python3"
  },
  "language_info": {
   "codemirror_mode": {
    "name": "ipython",
    "version": 3
   },
   "file_extension": ".py",
   "mimetype": "text/x-python",
   "name": "python",
   "nbconvert_exporter": "python",
   "pygments_lexer": "ipython3",
   "version": "3.11.9"
  }
 },
 "nbformat": 4,
 "nbformat_minor": 5
}
