{
 "cells": [
  {
   "cell_type": "code",
   "execution_count": null,
   "id": "2c85b917",
   "metadata": {},
   "outputs": [
    {
     "name": "stdout",
     "output_type": "stream",
     "text": [
      "La divisa no se encuentra en e diccionario\n"
     ]
    }
   ],
   "source": [
    "st_currency = \"Peso\"\n",
    "di_options = {'Euro':'€', 'Dollar':'$', 'Yen':'¥'}\n",
    "\n",
    "try:\n",
    "\tprint(di_options[st_currency])\n",
    "\n",
    "except KeyError:\n",
    "\tprint(\"La divisa no se encuentra en e diccionario\")"
   ]
  },
  {
   "cell_type": "code",
   "execution_count": 5,
   "id": "7b4dad96",
   "metadata": {},
   "outputs": [
    {
     "name": "stdout",
     "output_type": "stream",
     "text": [
      "Jhon tiene 34 años, vive en England y su número de télefono es 5585596357\n"
     ]
    }
   ],
   "source": [
    "st_name = \"Jhon\"\n",
    "st_age = \"34\"\n",
    "st_address = \"England\" \n",
    "st_phone = \"5585596357\"\n",
    "\n",
    "Diccionario = {\"Nombre\":st_name, \"Edad\":st_age, \"Direccion\":st_address, \"Telefono\":st_phone}\n",
    "print(f\"{st_name} tiene {st_age} años, vive en {st_address} y su número de télefono es {st_phone}\")"
   ]
  },
  {
   "cell_type": "code",
   "execution_count": 7,
   "id": "1432d18d",
   "metadata": {},
   "outputs": [
    {
     "name": "stdout",
     "output_type": "stream",
     "text": [
      "Fruta Pera, kilo(s) 3.5, precio total 2.975\n"
     ]
    }
   ],
   "source": [
    "di_options = {\"Platano\":1.35,\"Manzana\":0.80,\"Pera\":0.85,\"Naranja\":0.70}\n",
    "st_fruit = \"Pera\"\n",
    "fl_kilo = 3.5\n",
    "\n",
    "try:\n",
    "\tprint(f\"Fruta {st_fruit}, kilo(s) {fl_kilo}, precio total {di_options[st_fruit]*fl_kilo}\")\n",
    "\n",
    "except KeyError:\n",
    "\tprint(\"La fruta no se encuentra en e diccionario\")"
   ]
  },
  {
   "cell_type": "code",
   "execution_count": 8,
   "id": "30a0d4cd",
   "metadata": {},
   "outputs": [
    {
     "name": "stdout",
     "output_type": "stream",
     "text": [
      "03 de Mayo de 2024\n"
     ]
    }
   ],
   "source": [
    "st_date = \"03/05/2024\"\n",
    "di_options = {\"01\":\"Enero\",\n",
    "\t\t\t   \"02\":\"Febrero\",\n",
    "\t\t\t   \"03\":\"Marzo\",\n",
    "\t\t\t   \"04\":\"Abril\",\n",
    "\t\t\t   \"05\":\"Mayo\",\n",
    "\t\t\t   \"06\":\"Junio\",\n",
    "\t\t\t   \"07\":\"Julio\",\n",
    "\t\t\t   \"08\":\"Agosto\",\n",
    "\t\t\t   \"09\":\"Septiembre\",\n",
    "\t\t\t   \"10\":\"Octubre\",\n",
    "\t\t\t   \"11\":\"Noviembre\",\n",
    "\t\t\t   \"12\":\"Diciembre\"}\n",
    "\n",
    "st_date = st_date.split(\"/\")\n",
    "st_day = st_date[0]\n",
    "st_month = st_date[1]\n",
    "st_year = st_date[2]\n",
    "\n",
    "print(f\"{st_day} de {di_options[st_month]} de {st_year}\")"
   ]
  },
  {
   "cell_type": "code",
   "execution_count": 9,
   "id": "f3f16994",
   "metadata": {},
   "outputs": [
    {
     "name": "stdout",
     "output_type": "stream",
     "text": [
      "Matemáticas tiene 6 Creditos\n",
      "Física tiene 4 Creditos\n",
      "Química tiene 5 Creditos\n",
      "Creditos Totales 15\n"
     ]
    }
   ],
   "source": [
    "di_options = {'Matemáticas': 6, 'Física': 4, 'Química': 5}\n",
    "in_total = 0\n",
    "\n",
    "for key, value in di_options.items():\n",
    "\tprint(f\"{key} tiene {value} Creditos\")\n",
    "\tin_total += value\n",
    "\n",
    "print(f\"Creditos Totales {in_total}\")"
   ]
  },
  {
   "cell_type": "code",
   "execution_count": 13,
   "id": "70c33a7a",
   "metadata": {},
   "outputs": [
    {
     "data": {
      "text/plain": [
       "{'Nombre': 'Jhon',\n",
       " 'Edad': 54,\n",
       " 'Sexo': 'Masculino',\n",
       " 'Telefono': 5556233185,\n",
       " 'Correo': 'Jhonkog@hotmail.com'}"
      ]
     },
     "execution_count": 13,
     "metadata": {},
     "output_type": "execute_result"
    }
   ],
   "source": [
    "ls_data = [\"Jhon\",54,\"Masculino\",5556233185,\"Jhonkog@hotmail.com\"]\n",
    "di_options = {\"Nombre\":0,\"Edad\":0,\"Sexo\":0,\"Telefono\":0,\"Correo\":0}\n",
    "in_count = 0\n",
    "\n",
    "for Llave, Objeto in di_options.items():\n",
    "\tdi_options[Llave] = ls_data[in_count]\n",
    "\tin_count = in_count + 1\n",
    "\n",
    "di_options"
   ]
  },
  {
   "cell_type": "code",
   "execution_count": 14,
   "id": "e81d1c33",
   "metadata": {},
   "outputs": [
    {
     "name": "stdout",
     "output_type": "stream",
     "text": [
      "{'Ar1': 'Pr1', 'Ar2': 'Pr2', 'Ar3': 'Pr3', 'Ar4': 'Pr4', 'Ar5': 'Pr5'} 5\n"
     ]
    }
   ],
   "source": [
    "ls_article = [\"Ar1\",\"Ar2\",\"Ar3\",\"Ar4\",\"Ar5\",\"Ar6\",\"Ar7\",\"Ar8\"]\n",
    "ls_price = [\"Pr1\",\"Pr2\",\"Pr3\",\"Pr4\",\"Pr5\",\"Pr6\",\"Pr7\",\"Pr8\"]\n",
    "ls_save = [0,0,0,0,0,1,0,0,0]\n",
    "in_stop = 0\n",
    "in_count = 0 \n",
    "di_save = {}\n",
    "\n",
    "while in_stop == 0:\n",
    "\tdi_save[ls_article[in_count]] = ls_price[in_count]\n",
    "\tin_count = in_count + 1\n",
    "\tin_stop = ls_save[in_count]\n",
    "\n",
    "print(di_save,in_count)"
   ]
  },
  {
   "cell_type": "code",
   "execution_count": null,
   "id": "e8cb659b",
   "metadata": {},
   "outputs": [
    {
     "name": "stdout",
     "output_type": "stream",
     "text": [
      "Hi jhon how are you \n"
     ]
    }
   ],
   "source": [
    "di_options = {\"hola\":\"hi\",\"juan\":\"jhon\",\"como\":\"how\",\"estas\":\"are\",\"tu\":\"you\"}\n",
    "st_traduction = \"Hola Juan como estas tu\"\n",
    "st_traduction = st_traduction.lower()\n",
    "st_traduction = st_traduction.split(\" \")\n",
    "st_new = \"\"\n",
    "\n",
    "for ii in range(0,len(st_traduction),1):\n",
    "\tst_new = st_new + di_options[st_traduction[ii]]\n",
    "\tst_new = st_new + \" \"\n",
    "\n",
    "print(st_new.capitalize())"
   ]
  },
  {
   "cell_type": "code",
   "execution_count": 17,
   "id": "868905b0",
   "metadata": {},
   "outputs": [
    {
     "name": "stdout",
     "output_type": "stream",
     "text": [
      "Total bill 4592\n",
      "{'QE-451': 4568, 'QE-453': 1754}\n"
     ]
    }
   ],
   "source": [
    "di_data = {\"QE-451\": 4568,\n",
    "\t\t   \"QE-453\": 24}\n",
    "\n",
    "st_bill = \"QE-453\"\n",
    "in_cost = 1754\n",
    "in_total = 0\n",
    "in_action = 1\n",
    "\n",
    "ls_value = list(di_data.values())\n",
    "\n",
    "if in_action == 1:\n",
    "\tdi_data[st_bill] = in_cost\n",
    "\n",
    "elif in_action == 2:\n",
    "\tdi_data.pop(st_bill,0)\n",
    "\n",
    "else:\n",
    "\tprint(\"This bill don't exist\")\n",
    "\n",
    "print(\"Total bill\",sum(ls_value))\n",
    "print(di_data)"
   ]
  }
 ],
 "metadata": {
  "kernelspec": {
   "display_name": "env-leetcode",
   "language": "python",
   "name": "python3"
  },
  "language_info": {
   "codemirror_mode": {
    "name": "ipython",
    "version": 3
   },
   "file_extension": ".py",
   "mimetype": "text/x-python",
   "name": "python",
   "nbconvert_exporter": "python",
   "pygments_lexer": "ipython3",
   "version": "3.11.9"
  }
 },
 "nbformat": 4,
 "nbformat_minor": 5
}
