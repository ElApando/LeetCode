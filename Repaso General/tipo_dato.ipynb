{
 "cells": [
  {
   "cell_type": "code",
   "execution_count": 2,
   "id": "6161cff7",
   "metadata": {},
   "outputs": [
    {
     "name": "stdout",
     "output_type": "stream",
     "text": [
      "¡Hello World!\n"
     ]
    }
   ],
   "source": [
    "print(\"¡Hello World!\")"
   ]
  },
  {
   "cell_type": "code",
   "execution_count": null,
   "id": "6afe895f",
   "metadata": {},
   "outputs": [
    {
     "data": {
      "text/plain": [
       "'¡Hello World!'"
      ]
     },
     "execution_count": 3,
     "metadata": {},
     "output_type": "execute_result"
    }
   ],
   "source": [
    "\n",
    "st_word = \"¡Hello World!\"\n",
    "st_word"
   ]
  },
  {
   "cell_type": "code",
   "execution_count": 4,
   "metadata": {},
   "outputs": [
    {
     "name": "stdout",
     "output_type": "stream",
     "text": [
      "¡Hi Jhon!\n"
     ]
    }
   ],
   "source": [
    "st_name = \"Jhon\"\n",
    "print(f\"¡Hi {st_name}!\")"
   ]
  },
  {
   "cell_type": "code",
   "execution_count": 5,
   "metadata": {},
   "outputs": [
    {
     "name": "stdout",
     "output_type": "stream",
     "text": [
      "0.25\n"
     ]
    }
   ],
   "source": [
    "fl_reeult = ((3+2)/(2*5))**2\n",
    "print(fl_reeult)"
   ]
  },
  {
   "cell_type": "code",
   "execution_count": 7,
   "metadata": {},
   "outputs": [
    {
     "name": "stdout",
     "output_type": "stream",
     "text": [
      "4000\n"
     ]
    }
   ],
   "source": [
    "in_hours = 8\n",
    "in_cost_hour = 500\n",
    "print(in_hours*in_cost_hour)"
   ]
  },
  {
   "cell_type": "code",
   "execution_count": 8,
   "metadata": {},
   "outputs": [
    {
     "name": "stdout",
     "output_type": "stream",
     "text": [
      "15\n"
     ]
    }
   ],
   "source": [
    "in_number = 5\n",
    "in_save = 0\n",
    "\n",
    "for ii in range(1,in_number+1,1):\n",
    "\tin_save = in_save + ii\n",
    "\n",
    "print(in_save) "
   ]
  },
  {
   "cell_type": "code",
   "execution_count": null,
   "metadata": {},
   "outputs": [
    {
     "name": "stdout",
     "output_type": "stream",
     "text": [
      "Tu indice de masa corporal es 30.32\n"
     ]
    }
   ],
   "source": [
    "in_mass = 95\n",
    "in_height = 177\n",
    "\n",
    "fl_IMC = in_mass/((in_height/100)**2)\n",
    "print(f\" Your body mass index is {round(fl_IMC,2)}\")"
   ]
  },
  {
   "cell_type": "code",
   "execution_count": null,
   "id": "8268b468",
   "metadata": {},
   "outputs": [],
   "source": [
    "in_divisor = 4\n",
    "in_dividend = 27\n",
    "fl_operation = in_dividend//in_divisor\n",
    "in_rest = in_dividend%in_divisor\n",
    "\n",
    "print(f\"{in_dividend} between {in_divisor} gives a quotient {fl_operation} and a remainder of {in_rest}\")\n",
    "\n"
   ]
  },
  {
   "cell_type": "code",
   "execution_count": 13,
   "metadata": {},
   "outputs": [
    {
     "data": {
      "text/plain": [
       "161051"
      ]
     },
     "execution_count": 13,
     "metadata": {},
     "output_type": "execute_result"
    }
   ],
   "source": [
    "in_quanntitty = 100000\n",
    "in_interest = 10\n",
    "in_years = 5\n",
    "\n",
    "round(in_quanntitty*(in_interest/100+1)**in_years)\n"
   ]
  },
  {
   "cell_type": "code",
   "execution_count": 14,
   "metadata": {},
   "outputs": [
    {
     "name": "stdout",
     "output_type": "stream",
     "text": [
      " weight clown: 1.12, weight dolls: 0.75, total it is 1.87 kg\n"
     ]
    }
   ],
   "source": [
    "in_clown = 1\n",
    "in_dolls = 1\n",
    "in_clown_dollar =  112\n",
    "in_dolls_dollar =  75\n",
    "\n",
    "print(f\" weight clown: {(in_clown_dollar*in_clown)/100}, weight dolls: {(in_dolls_dollar*in_dolls)/100}, total it is {(in_clown_dollar*in_clown)/100+(in_dolls_dollar*in_dolls)/100} kg\")\n"
   ]
  },
  {
   "cell_type": "code",
   "execution_count": 17,
   "id": "02d127ce",
   "metadata": {},
   "outputs": [
    {
     "data": {
      "text/plain": [
       "11.25"
      ]
     },
     "execution_count": 17,
     "metadata": {},
     "output_type": "execute_result"
    }
   ],
   "source": [
    "in_interest = 4\n",
    "in_quantity = 10\n",
    "in_years = 3\n",
    "\n",
    "round(in_quantity*(in_interest/100+1)**in_years,2)"
   ]
  },
  {
   "cell_type": "code",
   "execution_count": 20,
   "id": "441f82a8",
   "metadata": {},
   "outputs": [
    {
     "name": "stdout",
     "output_type": "stream",
     "text": [
      "Fresh bread 3, not fresh bread 2, Total = 14.658000000000001\n"
     ]
    }
   ],
   "source": [
    "in_cost_bar = 3.49\n",
    "in_not_fresh = 2\n",
    "in_fresh = 3\n",
    "\n",
    "print(f\"Fresh bread {in_fresh}, not fresh bread {in_not_fresh}, Total = {(in_fresh*in_cost_bar)+(in_not_fresh*in_cost_bar*0.6)}\")"
   ]
  }
 ],
 "metadata": {
  "kernelspec": {
   "display_name": "env-leetcode",
   "language": "python",
   "name": "python3"
  },
  "language_info": {
   "codemirror_mode": {
    "name": "ipython",
    "version": 3
   },
   "file_extension": ".py",
   "mimetype": "text/x-python",
   "name": "python",
   "nbconvert_exporter": "python",
   "pygments_lexer": "ipython3",
   "version": "3.11.9"
  }
 },
 "nbformat": 4,
 "nbformat_minor": 5
}
